{
 "cells": [
  {
   "cell_type": "code",
   "execution_count": 3,
   "id": "3e47ddfe-7b55-4710-bf5c-17da510b046a",
   "metadata": {},
   "outputs": [],
   "source": [
    "#ASSIGNMENT = 1         DATE = 29 JAN, 2022"
   ]
  },
  {
   "cell_type": "code",
   "execution_count": 1,
   "id": "a3a5eaf7-1d8f-4076-afd1-559de1ba186f",
   "metadata": {},
   "outputs": [
    {
     "data": {
      "text/plain": [
       "'Que = 1\\nans = Guido van Rossum \\n\\nQue = 2\\nans =  Object-oriented programming and structured programming \\n\\nQue = 3\\nans = Yes, Python is a case-sensitive language\\n\\nQue = 4\\nans = .py\\n\\nQue = 5\\nans = python code is interpreted \\n\\nQue = 6\\nans = a module, a function body, and a class definition\\n\\nQue = 7\\nans = hash character\\n\\nQue = 8\\nans = sys.version\\n'"
      ]
     },
     "execution_count": 1,
     "metadata": {},
     "output_type": "execute_result"
    }
   ],
   "source": [
    "\"\"\"Que = 1\n",
    "ans = Guido van Rossum \n",
    "\n",
    "Que = 2\n",
    "ans =  Object-oriented programming and structured programming \n",
    "\n",
    "Que = 3\n",
    "ans = Yes, Python is a case-sensitive language\n",
    "\n",
    "Que = 4\n",
    "ans = .py\n",
    "\n",
    "Que = 5\n",
    "ans = python code is interpreted \n",
    "\n",
    "Que = 6\n",
    "ans = a module, a function body, and a class definition\n",
    "\n",
    "Que = 7\n",
    "ans = hash character\n",
    "\n",
    "Que = 8\n",
    "ans = sys.version\n",
    "\n",
    "Que = 9\n",
    "ans = lambda\n",
    "\n",
    "Que = 10\n",
    "ans = preferred installer program\n",
    "\n",
    "Que = 11\n",
    "ans = print() , pow() , type() , input()\n",
    "\n",
    "Que = 12\n",
    "ans = 79 character\n",
    "\n",
    "Que = 13\n",
    "ans = Data science.\n",
    "      Scientific and mathematical computing.\n",
    "      Web development.\n",
    "      Finance and trading.\n",
    "      System automation and administration.\n",
    "      Computer graphics.\n",
    "      Basic game development.\n",
    "      Security and penetration testing.\n",
    "      \n",
    "Que = 14 \n",
    "ans = involves a private heap containing all Python objects and data structures\n",
    "\n",
    "Que = 15\n",
    "ans = The complete path of python.exe can be added by:\n",
    "       Right-clicking This PC and going to Properties.\n",
    "       Clicking on the Advanced system settings in the menu on the left.\n",
    "       Clicking on the Environment Variables button o​n the bottom right.\n",
    "       In the System variables section, selecting the Path variable and clicking on Edit. The next screen will show all the directories that are currently a part of the PATH variable.\n",
    "       Clicking on New and entering Python’s install directory.\n",
    "\n",
    "Que = 16\n",
    "ans = yes\n",
    "\"\"\""
   ]
  },
  {
   "cell_type": "code",
   "execution_count": null,
   "id": "c4990ab5-b909-4f6e-8def-2ebf21bed425",
   "metadata": {},
   "outputs": [],
   "source": []
  },
  {
   "cell_type": "code",
   "execution_count": null,
   "id": "93a4e185-8731-4705-92ab-6f36353f234e",
   "metadata": {},
   "outputs": [],
   "source": []
  }
 ],
 "metadata": {
  "kernelspec": {
   "display_name": "Python 3 (ipykernel)",
   "language": "python",
   "name": "python3"
  },
  "language_info": {
   "codemirror_mode": {
    "name": "ipython",
    "version": 3
   },
   "file_extension": ".py",
   "mimetype": "text/x-python",
   "name": "python",
   "nbconvert_exporter": "python",
   "pygments_lexer": "ipython3",
   "version": "3.10.8"
  }
 },
 "nbformat": 4,
 "nbformat_minor": 5
}
